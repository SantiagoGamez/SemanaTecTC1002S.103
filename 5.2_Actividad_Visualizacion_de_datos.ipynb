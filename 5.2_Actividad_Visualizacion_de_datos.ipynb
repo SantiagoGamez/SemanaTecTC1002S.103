{
  "nbformat": 4,
  "nbformat_minor": 5,
  "metadata": {
    "colab": {
      "provenance": [],
      "collapsed_sections": [],
      "include_colab_link": true
    },
    "kernelspec": {
      "name": "python3",
      "display_name": "Python 3"
    }
  },
  "cells": [
    {
      "cell_type": "markdown",
      "metadata": {
        "id": "view-in-github",
        "colab_type": "text"
      },
      "source": [
        "<a href=\"https://colab.research.google.com/github/SantiagoGamez/SemanaTecTC1002S.103/blob/main/5.2_Actividad_Visualizacion_de_datos.ipynb\" target=\"_parent\"><img src=\"https://colab.research.google.com/assets/colab-badge.svg\" alt=\"Open In Colab\"/></a>"
      ]
    },
    {
      "cell_type": "markdown",
      "source": [
        "# Actividad\n",
        "(Haz doble clic en esta celda y completa los datos correspondientes a tu equipo)\n",
        "\n",
        "- Santiago Gamez A01197653"
      ],
      "metadata": {
        "id": "uZG-eTYxl_dk"
      },
      "id": "uZG-eTYxl_dk"
    },
    {
      "cell_type": "markdown",
      "metadata": {
        "id": "binding-wilderness"
      },
      "source": [
        "# Entregar \n",
        "Archivo PDF de la actividad y la liga de la actividad en su repostitorio.\n",
        "\n",
        "# Nota: \n",
        "Las tareas 1 a la 5 se califican como entregadas o no entregadas.\n",
        "\n",
        "Al integrante que no participe en la actividad no se le tomará en cuenta para la calificación.\n",
        "\n",
        "El límite para entregar las actividades es el viernes antes de las 23:59."
      ],
      "id": "binding-wilderness"
    },
    {
      "cell_type": "code",
      "metadata": {
        "id": "sIr0qxxNPCYx",
        "colab": {
          "base_uri": "https://localhost:8080/"
        },
        "outputId": "258370b5-e87c-43a2-c471-01c8e9340273"
      },
      "source": [
        "# Si trabajamos en Google Colaboratory corremos las siguientes lineas de código\n",
        "from google.colab import drive\n",
        "drive.mount('/gdrive')"
      ],
      "execution_count": 7,
      "outputs": [
        {
          "output_type": "stream",
          "name": "stdout",
          "text": [
            "Mounted at /gdrive\n"
          ]
        }
      ],
      "id": "sIr0qxxNPCYx"
    },
    {
      "cell_type": "code",
      "metadata": {
        "id": "VeXD25duPE-B",
        "colab": {
          "base_uri": "https://localhost:8080/"
        },
        "outputId": "63ba8312-9b39-4475-cee6-c6ec0ec96f1c"
      },
      "source": [
        "# Nos cambiamos a la carpeta donde tengamos el repositorio\n",
        "%cd '/gdrive/MyDrive/TC1002S/arte-analitica'"
      ],
      "execution_count": 9,
      "outputs": [
        {
          "output_type": "stream",
          "name": "stdout",
          "text": [
            "/gdrive/MyDrive/TC1002S/arte-analitica\n"
          ]
        }
      ],
      "id": "VeXD25duPE-B"
    },
    {
      "cell_type": "markdown",
      "source": [
        "# Insurance dataset\n",
        "\n",
        "El dataset contiene información demográfica sobre los asegurado en una compañía de seguros:\n",
        "\n",
        "- age: edad del asegurado principal\n",
        "- sex: género del asegurado. female o male\n",
        "- bmi: índice de masa corporal\n",
        "- children: numero de niños que estan cubiertos con la poliza. \n",
        "- smoke: si fuma el beneficiario. yes/no\n",
        "- region: dónde vive el beneficiario. Estos datos son de Estados Unidos. Regiones disponibles: northeast, southeast, southwest, northwest\n",
        "- charges: costo del seguro.\n",
        "\n",
        "Carga el dataset `data/insurance.csv` y haz un análisis gráfico de las variables."
      ],
      "metadata": {
        "id": "c80gVpyoGaPh"
      },
      "id": "c80gVpyoGaPh"
    },
    {
      "cell_type": "code",
      "metadata": {
        "id": "infrared-hotel"
      },
      "source": [
        "# Carga las librerías\n",
        "import numpy as np\n",
        "import pandas as pd\n",
        "import matplotlib.pyplot as plt"
      ],
      "execution_count": 10,
      "outputs": [],
      "id": "infrared-hotel"
    },
    {
      "cell_type": "code",
      "metadata": {
        "id": "JiX8gQJ5JiTE",
        "colab": {
          "base_uri": "https://localhost:8080/",
          "height": 206
        },
        "outputId": "2d9fbd5b-c2d3-4f50-a0f8-3361592e19a5"
      },
      "source": [
        "# Carga los datos y muestra los primeros renglones\n",
        "dfi = pd.read_csv(\"/gdrive/MyDrive/TC1002S/arte-analitica/data/insurance.csv\")\n",
        "dfi.head()"
      ],
      "execution_count": 13,
      "outputs": [
        {
          "output_type": "execute_result",
          "data": {
            "text/plain": [
              "   age     sex     bmi  children smoker     region      charges\n",
              "0   19  female  27.900         0    yes  southwest  16884.92400\n",
              "1   18    male  33.770         1     no  southeast   1725.55230\n",
              "2   28    male  33.000         3     no  southeast   4449.46200\n",
              "3   33    male  22.705         0     no  northwest  21984.47061\n",
              "4   32    male  28.880         0     no  northwest   3866.85520"
            ],
            "text/html": [
              "\n",
              "  <div id=\"df-41e70fb0-c667-491d-9827-d3f345199df7\">\n",
              "    <div class=\"colab-df-container\">\n",
              "      <div>\n",
              "<style scoped>\n",
              "    .dataframe tbody tr th:only-of-type {\n",
              "        vertical-align: middle;\n",
              "    }\n",
              "\n",
              "    .dataframe tbody tr th {\n",
              "        vertical-align: top;\n",
              "    }\n",
              "\n",
              "    .dataframe thead th {\n",
              "        text-align: right;\n",
              "    }\n",
              "</style>\n",
              "<table border=\"1\" class=\"dataframe\">\n",
              "  <thead>\n",
              "    <tr style=\"text-align: right;\">\n",
              "      <th></th>\n",
              "      <th>age</th>\n",
              "      <th>sex</th>\n",
              "      <th>bmi</th>\n",
              "      <th>children</th>\n",
              "      <th>smoker</th>\n",
              "      <th>region</th>\n",
              "      <th>charges</th>\n",
              "    </tr>\n",
              "  </thead>\n",
              "  <tbody>\n",
              "    <tr>\n",
              "      <th>0</th>\n",
              "      <td>19</td>\n",
              "      <td>female</td>\n",
              "      <td>27.900</td>\n",
              "      <td>0</td>\n",
              "      <td>yes</td>\n",
              "      <td>southwest</td>\n",
              "      <td>16884.92400</td>\n",
              "    </tr>\n",
              "    <tr>\n",
              "      <th>1</th>\n",
              "      <td>18</td>\n",
              "      <td>male</td>\n",
              "      <td>33.770</td>\n",
              "      <td>1</td>\n",
              "      <td>no</td>\n",
              "      <td>southeast</td>\n",
              "      <td>1725.55230</td>\n",
              "    </tr>\n",
              "    <tr>\n",
              "      <th>2</th>\n",
              "      <td>28</td>\n",
              "      <td>male</td>\n",
              "      <td>33.000</td>\n",
              "      <td>3</td>\n",
              "      <td>no</td>\n",
              "      <td>southeast</td>\n",
              "      <td>4449.46200</td>\n",
              "    </tr>\n",
              "    <tr>\n",
              "      <th>3</th>\n",
              "      <td>33</td>\n",
              "      <td>male</td>\n",
              "      <td>22.705</td>\n",
              "      <td>0</td>\n",
              "      <td>no</td>\n",
              "      <td>northwest</td>\n",
              "      <td>21984.47061</td>\n",
              "    </tr>\n",
              "    <tr>\n",
              "      <th>4</th>\n",
              "      <td>32</td>\n",
              "      <td>male</td>\n",
              "      <td>28.880</td>\n",
              "      <td>0</td>\n",
              "      <td>no</td>\n",
              "      <td>northwest</td>\n",
              "      <td>3866.85520</td>\n",
              "    </tr>\n",
              "  </tbody>\n",
              "</table>\n",
              "</div>\n",
              "      <button class=\"colab-df-convert\" onclick=\"convertToInteractive('df-41e70fb0-c667-491d-9827-d3f345199df7')\"\n",
              "              title=\"Convert this dataframe to an interactive table.\"\n",
              "              style=\"display:none;\">\n",
              "        \n",
              "  <svg xmlns=\"http://www.w3.org/2000/svg\" height=\"24px\"viewBox=\"0 0 24 24\"\n",
              "       width=\"24px\">\n",
              "    <path d=\"M0 0h24v24H0V0z\" fill=\"none\"/>\n",
              "    <path d=\"M18.56 5.44l.94 2.06.94-2.06 2.06-.94-2.06-.94-.94-2.06-.94 2.06-2.06.94zm-11 1L8.5 8.5l.94-2.06 2.06-.94-2.06-.94L8.5 2.5l-.94 2.06-2.06.94zm10 10l.94 2.06.94-2.06 2.06-.94-2.06-.94-.94-2.06-.94 2.06-2.06.94z\"/><path d=\"M17.41 7.96l-1.37-1.37c-.4-.4-.92-.59-1.43-.59-.52 0-1.04.2-1.43.59L10.3 9.45l-7.72 7.72c-.78.78-.78 2.05 0 2.83L4 21.41c.39.39.9.59 1.41.59.51 0 1.02-.2 1.41-.59l7.78-7.78 2.81-2.81c.8-.78.8-2.07 0-2.86zM5.41 20L4 18.59l7.72-7.72 1.47 1.35L5.41 20z\"/>\n",
              "  </svg>\n",
              "      </button>\n",
              "      \n",
              "  <style>\n",
              "    .colab-df-container {\n",
              "      display:flex;\n",
              "      flex-wrap:wrap;\n",
              "      gap: 12px;\n",
              "    }\n",
              "\n",
              "    .colab-df-convert {\n",
              "      background-color: #E8F0FE;\n",
              "      border: none;\n",
              "      border-radius: 50%;\n",
              "      cursor: pointer;\n",
              "      display: none;\n",
              "      fill: #1967D2;\n",
              "      height: 32px;\n",
              "      padding: 0 0 0 0;\n",
              "      width: 32px;\n",
              "    }\n",
              "\n",
              "    .colab-df-convert:hover {\n",
              "      background-color: #E2EBFA;\n",
              "      box-shadow: 0px 1px 2px rgba(60, 64, 67, 0.3), 0px 1px 3px 1px rgba(60, 64, 67, 0.15);\n",
              "      fill: #174EA6;\n",
              "    }\n",
              "\n",
              "    [theme=dark] .colab-df-convert {\n",
              "      background-color: #3B4455;\n",
              "      fill: #D2E3FC;\n",
              "    }\n",
              "\n",
              "    [theme=dark] .colab-df-convert:hover {\n",
              "      background-color: #434B5C;\n",
              "      box-shadow: 0px 1px 3px 1px rgba(0, 0, 0, 0.15);\n",
              "      filter: drop-shadow(0px 1px 2px rgba(0, 0, 0, 0.3));\n",
              "      fill: #FFFFFF;\n",
              "    }\n",
              "  </style>\n",
              "\n",
              "      <script>\n",
              "        const buttonEl =\n",
              "          document.querySelector('#df-41e70fb0-c667-491d-9827-d3f345199df7 button.colab-df-convert');\n",
              "        buttonEl.style.display =\n",
              "          google.colab.kernel.accessAllowed ? 'block' : 'none';\n",
              "\n",
              "        async function convertToInteractive(key) {\n",
              "          const element = document.querySelector('#df-41e70fb0-c667-491d-9827-d3f345199df7');\n",
              "          const dataTable =\n",
              "            await google.colab.kernel.invokeFunction('convertToInteractive',\n",
              "                                                     [key], {});\n",
              "          if (!dataTable) return;\n",
              "\n",
              "          const docLinkHtml = 'Like what you see? Visit the ' +\n",
              "            '<a target=\"_blank\" href=https://colab.research.google.com/notebooks/data_table.ipynb>data table notebook</a>'\n",
              "            + ' to learn more about interactive tables.';\n",
              "          element.innerHTML = '';\n",
              "          dataTable['output_type'] = 'display_data';\n",
              "          await google.colab.output.renderOutput(dataTable, element);\n",
              "          const docLink = document.createElement('div');\n",
              "          docLink.innerHTML = docLinkHtml;\n",
              "          element.appendChild(docLink);\n",
              "        }\n",
              "      </script>\n",
              "    </div>\n",
              "  </div>\n",
              "  "
            ]
          },
          "metadata": {},
          "execution_count": 13
        }
      ],
      "id": "JiX8gQJ5JiTE"
    },
    {
      "cell_type": "code",
      "metadata": {
        "id": "alxnpYKPYMZs",
        "colab": {
          "base_uri": "https://localhost:8080/",
          "height": 265
        },
        "outputId": "21726f45-3d71-434d-9190-03a691084131"
      },
      "source": [
        "# ¿Cuáles son las edades de los clientes de la aseguradora? \n",
        "# Haz una gráfica de cómo se distribuye esta variable.\n",
        "dfied = dfi['age']\n",
        "plt.hist(dfied, bins=30)\n",
        "plt.show()"
      ],
      "execution_count": 19,
      "outputs": [
        {
          "output_type": "display_data",
          "data": {
            "text/plain": [
              "<Figure size 432x288 with 1 Axes>"
            ],
            "image/png": "[encoded data removed]"
          },
          "metadata": {
            "needs_background": "light"
          }
        }
      ],
      "id": "alxnpYKPYMZs"
    },
    {
      "cell_type": "code",
      "source": [
        "# En general, quien tiene costos más altos de seguro, ¿los fumadores o los no fumadores?\n",
        "# Haz un gráfico que justifique tu respuesta.\n",
        "fuma = dfi['smoker']\n",
        "costo = dfi['charges']\n",
        "plt.scatter(fuma, costo)\n",
        "plt.show()\n",
        "print(\"Hay mayor costo para las persons que fuman que las que no fuman\")"
      ],
      "metadata": {
        "id": "oU4YbVibZcdn",
        "colab": {
          "base_uri": "https://localhost:8080/",
          "height": 282
        },
        "outputId": "5494378b-51fd-4f37-d595-c8ff83c1ec0f"
      },
      "execution_count": 24,
      "outputs": [
        {
          "output_type": "display_data",
          "data": {
            "text/plain": [
              "<Figure size 432x288 with 1 Axes>"
            ],
            "image/png": "[encoded data removed]"
          },
          "metadata": {
            "needs_background": "light"
          }
        },
        {
          "output_type": "stream",
          "name": "stdout",
          "text": [
            "Hay mayor costo para las persons que fuman que las que no fuman\n"
          ]
        }
      ],
      "id": "oU4YbVibZcdn"
    },
    {
      "cell_type": "code",
      "source": [
        "# ¿Cómo varia el cargo por seguro dependiendo del número de hijos?\n",
        "# El número de hijos es una variable numérica, pero como tiene pocos valores distintos,\n",
        "# la podemos considerar también como una variable cualitativa.\n",
        "costos = dfi['charges']\n",
        "hijos = dfi['children']\n",
        "plt.scatter(costos, hijos)\n",
        "plt.show()\n",
        "print(\"Segun la tendencia, hay menor costo mientras mas hijos hay\")"
      ],
      "metadata": {
        "id": "zaJpFLtcbM0j",
        "colab": {
          "base_uri": "https://localhost:8080/",
          "height": 282
        },
        "outputId": "09746995-263b-4212-b67f-ec8b2818ba46"
      },
      "execution_count": 23,
      "outputs": [
        {
          "output_type": "display_data",
          "data": {
            "text/plain": [
              "<Figure size 432x288 with 1 Axes>"
            ],
            "image/png": "[encoded data removed]"
          },
          "metadata": {
            "needs_background": "light"
          }
        },
        {
          "output_type": "stream",
          "name": "stdout",
          "text": [
            "Segun la tendencia, hay menor costo mientras mas hijos hay\n"
          ]
        }
      ],
      "id": "zaJpFLtcbM0j"
    },
    {
      "cell_type": "code",
      "metadata": {
        "id": "painted-manhattan",
        "colab": {
          "base_uri": "https://localhost:8080/"
        },
        "outputId": "591c02eb-f034-4a88-81ee-9640e9db418c"
      },
      "source": [
        "# ¿Cuál es el costo de seguro promedio por género?\n",
        "dfih = dfi[dfi[\"sex\"]==\"male\"][\"charges\"].mean()\n",
        "dfim = dfi[dfi[\"sex\"]==\"female\"][\"charges\"].mean()\n",
        "print(\"Costo promedio (hombre):\",dfih)\n",
        "print(\"Costo promedio (mujer):\",dfim)\n"
      ],
      "execution_count": 28,
      "outputs": [
        {
          "output_type": "stream",
          "name": "stdout",
          "text": [
            "Costo promedio (hombre): 13956.751177721893\n",
            "Costo promedio (mujer): 12569.578843835347\n"
          ]
        }
      ],
      "id": "painted-manhattan"
    },
    {
      "cell_type": "code",
      "source": [
        "# En una sola imagen, grafica las relaciones que tienen cada una de \n",
        "# las variables con los cargos (charges):\n",
        "# charges vs age, charges vs bmi, charges vs smoker y charges vs region.\n",
        "cargos_edad = plt.scatter(dfi['age'], dfi['charges'])\n",
        "cargos_bmi = plt.scatter(dfi['bmi'], dfi['charges'])\n",
        "cargos_smokers = plt.scatter(dfi['smoker'], dfi['charges'])\n",
        "cargos_region = plt.scatter(dfi['region'], dfi['charges'])\n",
        "plt.show()"
      ],
      "metadata": {
        "id": "PfkL5JVUfna5",
        "colab": {
          "base_uri": "https://localhost:8080/",
          "height": 265
        },
        "outputId": "59eca167-95bf-46ee-9d84-3a20da464ea3"
      },
      "execution_count": 29,
      "outputs": [
        {
          "output_type": "display_data",
          "data": {
            "text/plain": [
              "<Figure size 432x288 with 1 Axes>"
            ],
            "image/png": "[encoded data removed]"
          },
          "metadata": {
            "needs_background": "light"
          }
        }
      ],
      "id": "PfkL5JVUfna5"
    },
    {
      "cell_type": "markdown",
      "source": [
        "# Guardar el resultado como pdf\n"
      ],
      "metadata": {
        "id": "0cIlvxFZiKO-"
      },
      "id": "0cIlvxFZiKO-"
    },
    {
      "cell_type": "markdown",
      "source": [
        "* Escribe aquí abajo la liga de tu repositorio.\n",
        "\n",
        "* (Haz doble clic en esta celda y copia la URL dentro del paréntesis)\n",
        "\n",
        "[Liga al repositorio de Santiago Gamez](https://github.com/SantiagoGamez/SemanaTecTC1002S.103)"
      ],
      "metadata": {
        "id": "_IQNFksuktzf"
      },
      "id": "_IQNFksuktzf"
    },
    {
      "cell_type": "markdown",
      "source": [
        "* Exporta el notebook a formato HTML."
      ],
      "metadata": {
        "id": "3JtYXrhwkrPT"
      },
      "id": "3JtYXrhwkrPT"
    },
    {
      "cell_type": "code",
      "source": [
        "! jupyter nbconvert --to HTML '/content/drive/MyDrive/SemanaTec/arte-analitica/5.2 - Actividad - Visualizacion de datos.ipynb'"
      ],
      "metadata": {
        "id": "P5a_7v6biSIg",
        "colab": {
          "base_uri": "https://localhost:8080/"
        },
        "outputId": "5d57a63f-7567-46df-d428-7a66ab044d50"
      },
      "execution_count": 30,
      "outputs": [
        {
          "output_type": "stream",
          "name": "stdout",
          "text": [
            "[NbConvertApp] WARNING | pattern '/content/drive/MyDrive/SemanaTec/arte-analitica/5.2 - Actividad - Visualizacion de datos.ipynb' matched no files\n",
            "This application is used to convert notebook files (*.ipynb)\n",
            "        to various other formats.\n",
            "\n",
            "        WARNING: THE COMMANDLINE INTERFACE MAY CHANGE IN FUTURE RELEASES.\n",
            "\n",
            "Options\n",
            "=======\n",
            "The options below are convenience aliases to configurable class-options,\n",
            "as listed in the \"Equivalent to\" description-line of the aliases.\n",
            "To see all configurable class-options for some <cmd>, use:\n",
            "    <cmd> --help-all\n",
            "\n",
            "--debug\n",
            "    set log level to logging.DEBUG (maximize logging output)\n",
            "    Equivalent to: [--Application.log_level=10]\n",
            "--show-config\n",
            "    Show the application's configuration (human-readable format)\n",
            "    Equivalent to: [--Application.show_config=True]\n",
            "--show-config-json\n",
            "    Show the application's configuration (json format)\n",
            "    Equivalent to: [--Application.show_config_json=True]\n",
            "--generate-config\n",
            "    generate default config file\n",
            "    Equivalent to: [--JupyterApp.generate_config=True]\n",
            "-y\n",
            "    Answer yes to any questions instead of prompting.\n",
            "    Equivalent to: [--JupyterApp.answer_yes=True]\n",
            "--execute\n",
            "    Execute the notebook prior to export.\n",
            "    Equivalent to: [--ExecutePreprocessor.enabled=True]\n",
            "--allow-errors\n",
            "    Continue notebook execution even if one of the cells throws an error and include the error message in the cell output (the default behaviour is to abort conversion). This flag is only relevant if '--execute' was specified, too.\n",
            "    Equivalent to: [--ExecutePreprocessor.allow_errors=True]\n",
            "--stdin\n",
            "    read a single notebook file from stdin. Write the resulting notebook with default basename 'notebook.*'\n",
            "    Equivalent to: [--NbConvertApp.from_stdin=True]\n",
            "--stdout\n",
            "    Write notebook output to stdout instead of files.\n",
            "    Equivalent to: [--NbConvertApp.writer_class=StdoutWriter]\n",
            "--inplace\n",
            "    Run nbconvert in place, overwriting the existing notebook (only \n",
            "            relevant when converting to notebook format)\n",
            "    Equivalent to: [--NbConvertApp.use_output_suffix=False --NbConvertApp.export_format=notebook --FilesWriter.build_directory=]\n",
            "--clear-output\n",
            "    Clear output of current file and save in place, \n",
            "            overwriting the existing notebook.\n",
            "    Equivalent to: [--NbConvertApp.use_output_suffix=False --NbConvertApp.export_format=notebook --FilesWriter.build_directory= --ClearOutputPreprocessor.enabled=True]\n",
            "--no-prompt\n",
            "    Exclude input and output prompts from converted document.\n",
            "    Equivalent to: [--TemplateExporter.exclude_input_prompt=True --TemplateExporter.exclude_output_prompt=True]\n",
            "--no-input\n",
            "    Exclude input cells and output prompts from converted document. \n",
            "            This mode is ideal for generating code-free reports.\n",
            "    Equivalent to: [--TemplateExporter.exclude_output_prompt=True --TemplateExporter.exclude_input=True]\n",
            "--log-level=<Enum>\n",
            "    Set the log level by value or name.\n",
            "    Choices: any of [0, 10, 20, 30, 40, 50, 'DEBUG', 'INFO', 'WARN', 'ERROR', 'CRITICAL']\n",
            "    Default: 30\n",
            "    Equivalent to: [--Application.log_level]\n",
            "--config=<Unicode>\n",
            "    Full path of a config file.\n",
            "    Default: ''\n",
            "    Equivalent to: [--JupyterApp.config_file]\n",
            "--to=<Unicode>\n",
            "    The export format to be used, either one of the built-in formats\n",
            "            ['asciidoc', 'custom', 'html', 'latex', 'markdown', 'notebook', 'pdf', 'python', 'rst', 'script', 'slides']\n",
            "            or a dotted object name that represents the import path for an\n",
            "            `Exporter` class\n",
            "    Default: 'html'\n",
            "    Equivalent to: [--NbConvertApp.export_format]\n",
            "--template=<Unicode>\n",
            "    Name of the template file to use\n",
            "    Default: ''\n",
            "    Equivalent to: [--TemplateExporter.template_file]\n",
            "--writer=<DottedObjectName>\n",
            "    Writer class used to write the \n",
            "                                        results of the conversion\n",
            "    Default: 'FilesWriter'\n",
            "    Equivalent to: [--NbConvertApp.writer_class]\n",
            "--post=<DottedOrNone>\n",
            "    PostProcessor class used to write the\n",
            "                                        results of the conversion\n",
            "    Default: ''\n",
            "    Equivalent to: [--NbConvertApp.postprocessor_class]\n",
            "--output=<Unicode>\n",
            "    overwrite base name use for output files.\n",
            "                can only be used when converting one notebook at a time.\n",
            "    Default: ''\n",
            "    Equivalent to: [--NbConvertApp.output_base]\n",
            "--output-dir=<Unicode>\n",
            "    Directory to write output(s) to. Defaults\n",
            "                                  to output to the directory of each notebook. To recover\n",
            "                                  previous default behaviour (outputting to the current \n",
            "                                  working directory) use . as the flag value.\n",
            "    Default: ''\n",
            "    Equivalent to: [--FilesWriter.build_directory]\n",
            "--reveal-prefix=<Unicode>\n",
            "    The URL prefix for reveal.js (version 3.x).\n",
            "            This defaults to the reveal CDN, but can be any url pointing to a copy \n",
            "            of reveal.js. \n",
            "            For speaker notes to work, this must be a relative path to a local \n",
            "            copy of reveal.js: e.g., \"reveal.js\".\n",
            "            If a relative path is given, it must be a subdirectory of the\n",
            "            current directory (from which the server is run).\n",
            "            See the usage documentation\n",
            "            (https://nbconvert.readthedocs.io/en/latest/usage.html#reveal-js-html-slideshow)\n",
            "            for more details.\n",
            "    Default: ''\n",
            "    Equivalent to: [--SlidesExporter.reveal_url_prefix]\n",
            "--nbformat=<Enum>\n",
            "    The nbformat version to write.\n",
            "            Use this to downgrade notebooks.\n",
            "    Choices: any of [1, 2, 3, 4]\n",
            "    Default: 4\n",
            "    Equivalent to: [--NotebookExporter.nbformat_version]\n",
            "\n",
            "Examples\n",
            "--------\n",
            "\n",
            "    The simplest way to use nbconvert is\n",
            "\n",
            "            > jupyter nbconvert mynotebook.ipynb\n",
            "\n",
            "            which will convert mynotebook.ipynb to the default format (probably HTML).\n",
            "\n",
            "            You can specify the export format with `--to`.\n",
            "            Options include ['asciidoc', 'custom', 'html', 'latex', 'markdown', 'notebook', 'pdf', 'python', 'rst', 'script', 'slides'].\n",
            "\n",
            "            > jupyter nbconvert --to latex mynotebook.ipynb\n",
            "\n",
            "            Both HTML and LaTeX support multiple output templates. LaTeX includes\n",
            "            'base', 'article' and 'report'.  HTML includes 'basic' and 'full'. You\n",
            "            can specify the flavor of the format used.\n",
            "\n",
            "            > jupyter nbconvert --to html --template basic mynotebook.ipynb\n",
            "\n",
            "            You can also pipe the output to stdout, rather than a file\n",
            "\n",
            "            > jupyter nbconvert mynotebook.ipynb --stdout\n",
            "\n",
            "            PDF is generated via latex\n",
            "\n",
            "            > jupyter nbconvert mynotebook.ipynb --to pdf\n",
            "\n",
            "            You can get (and serve) a Reveal.js-powered slideshow\n",
            "\n",
            "            > jupyter nbconvert myslides.ipynb --to slides --post serve\n",
            "\n",
            "            Multiple notebooks can be given at the command line in a couple of \n",
            "            different ways:\n",
            "\n",
            "            > jupyter nbconvert notebook*.ipynb\n",
            "            > jupyter nbconvert notebook1.ipynb notebook2.ipynb\n",
            "\n",
            "            or you can specify the notebooks list in a config file, containing::\n",
            "\n",
            "                c.NbConvertApp.notebooks = [\"my_notebook.ipynb\"]\n",
            "\n",
            "            > jupyter nbconvert --config mycfg.py\n",
            "\n",
            "To see all available configurables, use `--help-all`.\n",
            "\n"
          ]
        }
      ],
      "id": "P5a_7v6biSIg"
    },
    {
      "cell_type": "markdown",
      "source": [
        "* Haz doble clic en el archivo nuevo que se creó dentro de la carpeta `arte-analitica` y en la parte superior derecha dale clic en **imprimir**\n",
        "\n",
        "* Imprime el archivo como *PDF* y súbelo a Canvas."
      ],
      "metadata": {
        "id": "kurRcwk7kWU7"
      },
      "id": "kurRcwk7kWU7"
    }
  ]
}