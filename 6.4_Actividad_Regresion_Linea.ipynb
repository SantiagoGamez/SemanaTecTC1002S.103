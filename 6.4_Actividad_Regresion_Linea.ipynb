{
  "cells": [
    {
      "cell_type": "markdown",
      "metadata": {
        "id": "view-in-github",
        "colab_type": "text"
      },
      "source": [
        "<a href=\"https://colab.research.google.com/github/SantiagoGamez/SemanaTecTC1002S.103/blob/main/6.4_Actividad_Regresion_Linea.ipynb\" target=\"_parent\"><img src=\"https://colab.research.google.com/assets/colab-badge.svg\" alt=\"Open In Colab\"/></a>"
      ]
    },
    {
      "cell_type": "markdown",
      "metadata": {
        "id": "uZG-eTYxl_dk"
      },
      "source": [
        "# Actividad\n",
        "(Haz doble clic en esta celda y completa los datos correspondientes a tu equipo)\n",
        "\n",
        "- Santiago Gamez A01197653"
      ]
    },
    {
      "cell_type": "markdown",
      "metadata": {
        "id": "binding-wilderness"
      },
      "source": [
        "# Entregar \n",
        "Archivo PDF de la actividad y la liga de la actividad en su repostitorio.\n",
        "\n",
        "# Nota: \n",
        "Esta actividad se evaluará de acuerdo a la rúbrica en Canvas.\n",
        "\n",
        "Al integrante que no participe en la actividad no se le tomará en cuenta para la calificación.\n",
        "\n",
        "El límite para entregar las actividades es el viernes antes de las 23:59.\n",
        "\n",
        "# Importante: \n",
        "- Colocar nombre en ejes en gráficas\n",
        "- Nombre en gráficas \n",
        "- Conclusiones con el nombre de cada alumno\n",
        "- Contestar cada pregunta\n"
      ]
    },
    {
      "cell_type": "markdown",
      "metadata": {
        "id": "SM977Uzc56Qx"
      },
      "source": [
        "**Gastos en seguro**"
      ]
    },
    {
      "cell_type": "markdown",
      "metadata": {
        "id": "rhGhKyEz6GLN"
      },
      "source": [
        "Nuestro objetivo será construir un modelo que nos permita estimar los gastos de seguro dependiendo de edad,sexo, indice de masa corporal, numero de hijos, si se fuma, región.\n",
        "\n",
        "El dataset consta de las columnas: \n",
        "- age: edad del beneficiario principal\n",
        "- sex: female o male \n",
        "- bmi: indice de masa corporal\n",
        "- children: numero de niños que estan cubiertos con la poliza. \n",
        "- smoke: si fuma el beneficiario si/no\n",
        "- region: región en dónde vive el beneficiario. Estos datos son de Estados Unidos. Regiones disponibles: northeast, southeast, southwest, northwest\n",
        "- charges: costo del seguro.\n",
        "\n",
        "\n",
        "Referencia de dataset: \n",
        "https://github.com/stedy/Machine-Learning-with-R-datasets/blob/master/insurance.csv"
      ]
    },
    {
      "cell_type": "markdown",
      "metadata": {
        "id": "Fm5ZBm8x7oFA"
      },
      "source": [
        "1.a. Carga los datos del archivo insurance.csv "
      ]
    },
    {
      "cell_type": "code",
      "execution_count": 1,
      "metadata": {
        "id": "Y3_F5gVu7qKf",
        "colab": {
          "base_uri": "https://localhost:8080/",
          "height": 0
        },
        "outputId": "c753ab9a-de6e-4a27-e968-27332f350de4"
      },
      "outputs": [
        {
          "output_type": "stream",
          "name": "stdout",
          "text": [
            "Mounted at /gdrive\n"
          ]
        }
      ],
      "source": [
        "from google.colab import drive\n",
        "drive.mount('/gdrive')"
      ]
    },
    {
      "cell_type": "code",
      "source": [
        "import numpy as np\n",
        "import pandas as pd\n",
        "import matplotlib.pyplot as plt\n",
        "import seaborn as sns\n",
        "from sklearn.linear_model import LinearRegression\n",
        "import plotly.express as px\n",
        "\n",
        "dataframei = pd.read_csv(\"/gdrive/MyDrive/TC1002S/arte-analitica/data/insurance.csv\")"
      ],
      "metadata": {
        "id": "972e6uMkv4pg"
      },
      "execution_count": 16,
      "outputs": []
    },
    {
      "cell_type": "markdown",
      "metadata": {
        "id": "VR6KYr9A9Rkz"
      },
      "source": [
        "1.b. Crea unas columnas con las siguientes caracteristicas:\n",
        "- fuma: 1 si el bvalor de smoke es \"yes\" y 0 si el valor de smoke es \"no\" \n",
        "- region: si es northeast - 0 , southeast- 1, southwest- 2, northwest - 3\n",
        "- sexo: 0 si es \"male\" y 1 si es \"female\""
      ]
    },
    {
      "cell_type": "code",
      "execution_count": 72,
      "metadata": {
        "id": "8NvTvpzT9R4O",
        "colab": {
          "base_uri": "https://localhost:8080/",
          "height": 0
        },
        "outputId": "aa34cc9e-41b0-45cb-cf7b-edc26f6f2d65"
      },
      "outputs": [
        {
          "output_type": "stream",
          "name": "stdout",
          "text": [
            "<bound method NDFrame.head of       no  yes\n",
            "0      0    1\n",
            "1      1    0\n",
            "2      1    0\n",
            "3      1    0\n",
            "4      1    0\n",
            "...   ..  ...\n",
            "1333   1    0\n",
            "1334   1    0\n",
            "1335   1    0\n",
            "1336   1    0\n",
            "1337   0    1\n",
            "\n",
            "[1338 rows x 2 columns]>\n",
            "<bound method NDFrame.head of 0       2\n",
            "1       1\n",
            "2       1\n",
            "3       3\n",
            "4       3\n",
            "       ..\n",
            "1333    3\n",
            "1334    0\n",
            "1335    1\n",
            "1336    2\n",
            "1337    3\n",
            "Name: region, Length: 1338, dtype: int64>\n",
            "<bound method NDFrame.head of       female  male\n",
            "0          1     0\n",
            "1          0     1\n",
            "2          0     1\n",
            "3          0     1\n",
            "4          0     1\n",
            "...      ...   ...\n",
            "1333       0     1\n",
            "1334       1     0\n",
            "1335       1     0\n",
            "1336       1     0\n",
            "1337       1     0\n",
            "\n",
            "[1338 rows x 2 columns]>\n"
          ]
        }
      ],
      "source": [
        "dataframei_smoker = pd.get_dummies(dataframei['smoker'])\n",
        "dataframei_region = {'northeast': 0, 'southeast': 1, 'southwest': 2, 'northwest': 3}\n",
        "dataframei_region = dataframei['region'].map(dataframei_region)\n",
        "dataframei_gender = pd.get_dummies(dataframei['sex'])\n",
        "\n",
        "print(dataframei_smoker.head)\n",
        "print(dataframei_region.head)\n",
        "print(dataframei_gender.head)"
      ]
    },
    {
      "cell_type": "markdown",
      "metadata": {
        "id": "cygVOvVC7zV7"
      },
      "source": [
        "2. Generar una(s) grafica(s) para visuaizar cómo se relaciona cada columna de costo en seguro contra otras variables."
      ]
    },
    {
      "cell_type": "code",
      "execution_count": 43,
      "metadata": {
        "id": "l-rXv0kc77Ja",
        "colab": {
          "base_uri": "https://localhost:8080/",
          "height": 312
        },
        "outputId": "41ed8667-9b2d-4924-b37a-67b04b4787f7"
      },
      "outputs": [
        {
          "output_type": "execute_result",
          "data": {
            "text/plain": [
              "Text(0, 0.5, 'Charges')"
            ]
          },
          "metadata": {},
          "execution_count": 43
        },
        {
          "output_type": "display_data",
          "data": {
            "text/plain": [
              "<Figure size 432x288 with 1 Axes>"
            ],
            "image/png": "[encoded data removed]"
          },
          "metadata": {
            "needs_background": "light"
          }
        }
      ],
      "source": [
        "sns.scatterplot(data=dataframei, x = 'smoker', y='charges')\n",
        "plt.title('Cargos dependiendo de fumadores')\n",
        "plt.xlabel('Smoker')\n",
        "plt.ylabel('Charges')"
      ]
    },
    {
      "cell_type": "code",
      "source": [
        "sns.scatterplot(data=dataframei, x = 'region', y='charges')\n",
        "plt.title('Cargos dependiendo de region')\n",
        "plt.xlabel('Region')\n",
        "plt.ylabel('Charges')"
      ],
      "metadata": {
        "colab": {
          "base_uri": "https://localhost:8080/",
          "height": 312
        },
        "id": "J-YZejFQyf4w",
        "outputId": "a2607ba2-4185-432f-a4dc-81ef7a0508df"
      },
      "execution_count": 44,
      "outputs": [
        {
          "output_type": "execute_result",
          "data": {
            "text/plain": [
              "Text(0, 0.5, 'Charges')"
            ]
          },
          "metadata": {},
          "execution_count": 44
        },
        {
          "output_type": "display_data",
          "data": {
            "text/plain": [
              "<Figure size 432x288 with 1 Axes>"
            ],
            "image/png": "[encoded data removed]"
          },
          "metadata": {
            "needs_background": "light"
          }
        }
      ]
    },
    {
      "cell_type": "code",
      "source": [
        "sns.scatterplot(data=dataframei, x = 'sex', y='charges')\n",
        "plt.title('Cargos dependiendo de genero')\n",
        "plt.xlabel('Gender')\n",
        "plt.ylabel('Charges')"
      ],
      "metadata": {
        "colab": {
          "base_uri": "https://localhost:8080/",
          "height": 312
        },
        "id": "pIDIzdBf0IeZ",
        "outputId": "62765504-e53d-41fe-cc4d-fb32f42baa07"
      },
      "execution_count": 45,
      "outputs": [
        {
          "output_type": "execute_result",
          "data": {
            "text/plain": [
              "Text(0, 0.5, 'Charges')"
            ]
          },
          "metadata": {},
          "execution_count": 45
        },
        {
          "output_type": "display_data",
          "data": {
            "text/plain": [
              "<Figure size 432x288 with 1 Axes>"
            ],
            "image/png": "[encoded data removed]"
          },
          "metadata": {
            "needs_background": "light"
          }
        }
      ]
    },
    {
      "cell_type": "code",
      "source": [
        "sns.scatterplot(data=dataframei, x = 'children', y='charges')\n",
        "plt.title('Cargos dependiendo de cuantos hijos tiene')\n",
        "plt.xlabel('Children')\n",
        "plt.ylabel('Charges')"
      ],
      "metadata": {
        "colab": {
          "base_uri": "https://localhost:8080/",
          "height": 312
        },
        "id": "MDEnN0fv0PCq",
        "outputId": "dc12adbf-9f0a-44b5-8568-741d9fd52fbc"
      },
      "execution_count": 46,
      "outputs": [
        {
          "output_type": "execute_result",
          "data": {
            "text/plain": [
              "Text(0, 0.5, 'Charges')"
            ]
          },
          "metadata": {},
          "execution_count": 46
        },
        {
          "output_type": "display_data",
          "data": {
            "text/plain": [
              "<Figure size 432x288 with 1 Axes>"
            ],
            "image/png": "[encoded data removed]"
          },
          "metadata": {
            "needs_background": "light"
          }
        }
      ]
    },
    {
      "cell_type": "markdown",
      "metadata": {
        "id": "U6utXWVu7_Kg"
      },
      "source": [
        "3. ¿ Qué conclusiones puedes obtener de las graficas anteriores?"
      ]
    },
    {
      "cell_type": "code",
      "execution_count": 41,
      "metadata": {
        "id": "q_ZNRXex8ASC"
      },
      "outputs": [],
      "source": [
        "#1. Hay mayor costo para gente que fuma\n",
        "#2. Aunque no sea mucha diferencia, hay mayor costo para gente southeast\n",
        "#3. No hay gran diferencia de costo por genero\n",
        "#4. Tiende a tener mayor cargo de seguro mientras menos hijos tiene"
      ]
    },
    {
      "cell_type": "markdown",
      "metadata": {
        "id": "RSRQf2Hv8JMr"
      },
      "source": [
        "4. **Regresión lineal**. En su forma más simple, consiste en asumir que una variable $x$ y una variable $y$ presentan una relación lineal de la forma:\n",
        "\n",
        "$$ y \\approx \\beta_0 + \\beta_1 \\cdot x$$\n",
        "\n",
        "¿Cuál es el valor de beta_0 , beta_1 y el Score  para **Edad vs Costo** , **Indice de masa corporal vs Costo** , **Niños vs Costo** y otros?"
      ]
    },
    {
      "cell_type": "code",
      "execution_count": 54,
      "metadata": {
        "id": "nzWOFphW_nJ9",
        "colab": {
          "base_uri": "https://localhost:8080/",
          "height": 0
        },
        "outputId": "c3e76f7e-9aa8-4d09-c0a6-d58fdcbbc427"
      },
      "outputs": [
        {
          "output_type": "stream",
          "name": "stdout",
          "text": [
            "Valores b0 y b1 de edad vs costo:\n",
            "Parameter bo = 2.6141403461089987e-08\n",
            "Parameter b1 = 39.20667850359876\n"
          ]
        }
      ],
      "source": [
        "N = dataframei[\"charges\"].sum()\n",
        "\n",
        "u_x = np.mean(dataframei[\"charges\"])\n",
        "u_y = np.mean(dataframei[\"age\"])\n",
        "\n",
        "X = dataframei[\"charges\"]\n",
        "Y = dataframei[\"age\"]\n",
        "varx = np.var(X)\n",
        "varxy = np.sum((X - u_x) * (Y - u_y)) / N\n",
        "b0 = varxy / varx\n",
        "b1 = u_y - b0 * u_x\n",
        "\n",
        "print(\"Valores b0 y b1 de edad vs costo:\")\n",
        "print(\"Parameter bo = \" + str(b0))\n",
        "print(\"Parameter b1 = \" + str(b1))"
      ]
    },
    {
      "cell_type": "code",
      "source": [
        "N = dataframei[\"charges\"].sum()\n",
        "\n",
        "u_x = np.mean(dataframei[\"charges\"])\n",
        "u_y = np.mean(dataframei[\"bmi\"])\n",
        "\n",
        "X = dataframei[\"charges\"]\n",
        "Y = dataframei[\"bmi\"]\n",
        "varx = np.var(X)\n",
        "varxy = np.sum((X - u_x) * (Y - u_y)) / N\n",
        "b0 = varxy / varx\n",
        "b1 = u_y - b0 * u_x\n",
        "\n",
        "print(\"Valores b0 y b1 de bmi vs costo:\")\n",
        "print(\"Parameter bo = \" + str(b0))\n",
        "print(\"Parameter b1 = \" + str(b1))"
      ],
      "metadata": {
        "colab": {
          "base_uri": "https://localhost:8080/",
          "height": 0
        },
        "id": "50O7ycET4Rcv",
        "outputId": "e560c35d-7a49-42fa-c52a-4e67a1a6ae2b"
      },
      "execution_count": 55,
      "outputs": [
        {
          "output_type": "stream",
          "name": "stdout",
          "text": [
            "Valores b0 y b1 de bmi vs costo:\n",
            "Parameter bo = 7.526340689917808e-09\n",
            "Parameter b1 = 30.663296983267482\n"
          ]
        }
      ]
    },
    {
      "cell_type": "code",
      "source": [
        "N = dataframei[\"charges\"].sum()\n",
        "\n",
        "u_x = np.mean(dataframei[\"charges\"])\n",
        "u_y = np.mean(dataframei[\"children\"])\n",
        "\n",
        "X = dataframei[\"charges\"]\n",
        "Y = dataframei[\"children\"]\n",
        "varx = np.var(X)\n",
        "varxy = np.sum((X - u_x) * (Y - u_y)) / N\n",
        "b0 = varxy / varx\n",
        "b1 = u_y - b0 * u_x\n",
        "\n",
        "print(\"Valores b0 y b1 de Niños vs costo:\")\n",
        "print(\"Parameter bo = \" + str(b0))\n",
        "print(\"Parameter b1 = \" + str(b1))"
      ],
      "metadata": {
        "colab": {
          "base_uri": "https://localhost:8080/",
          "height": 0
        },
        "id": "LhjFkoEu46ko",
        "outputId": "84c04fca-9c6f-4195-f1ff-49d9f87da500"
      },
      "execution_count": 56,
      "outputs": [
        {
          "output_type": "stream",
          "name": "stdout",
          "text": [
            "Valores b0 y b1 de Niños vs costo:\n",
            "Parameter bo = 5.100736615861623e-10\n",
            "Parameter b1 = 1.0949110188500244\n"
          ]
        }
      ]
    },
    {
      "cell_type": "code",
      "source": [
        "print(\"Score:\")\n",
        "plt.figure()\n",
        "sns.heatmap(dataframei.corr(), annot = True)"
      ],
      "metadata": {
        "colab": {
          "base_uri": "https://localhost:8080/",
          "height": 304
        },
        "id": "kWT65Z3k5EUe",
        "outputId": "c05b87ae-beab-4d25-ce8c-49850609c286"
      },
      "execution_count": 62,
      "outputs": [
        {
          "output_type": "stream",
          "name": "stdout",
          "text": [
            "Score:\n"
          ]
        },
        {
          "output_type": "execute_result",
          "data": {
            "text/plain": [
              "<matplotlib.axes._subplots.AxesSubplot at 0x7ff460af1950>"
            ]
          },
          "metadata": {},
          "execution_count": 62
        },
        {
          "output_type": "display_data",
          "data": {
            "text/plain": [
              "<Figure size 432x288 with 2 Axes>"
            ],
            "image/png": "[encoded data removed]"
          },
          "metadata": {
            "needs_background": "light"
          }
        }
      ]
    },
    {
      "cell_type": "markdown",
      "metadata": {
        "id": "RdEqq0sF_nid"
      },
      "source": [
        "5. ¿Cuál de los modelos es mejor de acuerdo al score ordenalos del mejor al peor?"
      ]
    },
    {
      "cell_type": "markdown",
      "metadata": {
        "id": "0vdminTh_t3A"
      },
      "source": [
        "*Escibe aquí...*.\n",
        "- Charges vs age\n",
        "- Charges vs bmi\n",
        "- Charges vs children"
      ]
    },
    {
      "cell_type": "markdown",
      "metadata": {
        "id": "CM4Jdqtk_zIO"
      },
      "source": [
        "6.  **Regresión lineal múltiple**. Como ahora vamos a incluir más de una variable, el modelo se rescribe a :\n",
        "\n",
        "$$ \\hat{y} = \\hat{\\beta}_0 + \\hat{\\beta}_1 \\cdot x_1 + \\hat{\\beta}_2 \\cdot x_2 + \\hat{\\beta}_3\\cdot x_3 + \\ldots \\epsilon $$\n",
        "\n",
        "Elige  las diferentes combinaciones de variables. Ejemplo: Redes y Youtube vs Ventas \n",
        "\n",
        "¿Cuál es el valor de beta_0, betas_1 , beta_2 , el score y el score ajustado de de 5 combinaciones . Ejemplo: **Edad, Niños, Region vs Costo** ?"
      ]
    },
    {
      "cell_type": "code",
      "execution_count": null,
      "metadata": {
        "id": "lCS6xvRt__Kx"
      },
      "outputs": [],
      "source": []
    },
    {
      "cell_type": "markdown",
      "metadata": {
        "id": "NYcv7AsM__h6"
      },
      "source": [
        " 7. ¿Cuál modelo es el que nos conviene elegir?"
      ]
    },
    {
      "cell_type": "markdown",
      "metadata": {
        "id": "i37qcOQfAE6e"
      },
      "source": [
        "*Escibe aquí...*."
      ]
    },
    {
      "cell_type": "markdown",
      "metadata": {
        "id": "J2gEF1VavO4D"
      },
      "source": [
        "# ¿Cuál es la ecuación final de tu modelo?"
      ]
    },
    {
      "cell_type": "markdown",
      "metadata": {
        "id": "3Lh2XoPlvO4E"
      },
      "source": [
        "Escribe aquí..."
      ]
    },
    {
      "cell_type": "markdown",
      "metadata": {
        "id": "u2RYBqdjvO4E"
      },
      "source": [
        "# Conclusiones"
      ]
    },
    {
      "cell_type": "markdown",
      "metadata": {
        "id": "teauFJW6ALe0"
      },
      "source": [
        "Escribe aquí...\n",
        "\n",
        "##a01197653- Santiago Gamez##\n",
        "    Durante esta semana tec, pude ver como la programacion es una gran heramienta para el analisis de datos, ya que simplifica mucho el trabajo \n",
        "    requerido para poder acceder, procesar y relacionar grandes cantidades de datos en un periodo corto de tiempo y sin mucho esfuerzo. De igual \n",
        "    manera, aprendi de nuevas herramientas, como google colab, que no habia tenido la oportunidad de conocer anteriormente, y renforce conocimientos \n",
        "    y practica de github"
      ]
    },
    {
      "cell_type": "markdown",
      "metadata": {
        "id": "0cIlvxFZiKO-"
      },
      "source": [
        "# Guardar el resultado como pdf\n"
      ]
    },
    {
      "cell_type": "markdown",
      "metadata": {
        "id": "_IQNFksuktzf"
      },
      "source": [
        "* Escribe aquí abajo la liga de tu repositorio.\n",
        "\n",
        "* (Haz doble clic en esta celda y copia la URL dentro del paréntesis)\n",
        "\n",
        "[Liga al repositorio de Santiago Gamez](https://github.com/SantiagoGamez/SemanaTecTC1002S.103)"
      ]
    },
    {
      "cell_type": "markdown",
      "metadata": {
        "id": "3JtYXrhwkrPT"
      },
      "source": [
        "* Exporta el notebook a formato HTML."
      ]
    },
    {
      "cell_type": "code",
      "execution_count": null,
      "metadata": {
        "id": "P5a_7v6biSIg"
      },
      "outputs": [],
      "source": [
        "! jupyter nbconvert --to HTML '/content/drive/MyDrive/SemanaTec/arte-analitica/6.3 - Actividad Regresion Linea.ipynb'"
      ]
    },
    {
      "cell_type": "markdown",
      "metadata": {
        "id": "kurRcwk7kWU7"
      },
      "source": [
        "* Haz doble clic en el archivo nuevo que se creó dentro de la carpeta `arte-analitica` y en la parte superior derecha dale clic en **imprimir**\n",
        "\n",
        "* Imprime el archivo como *PDF* y súbelo a Canvas."
      ]
    }
  ],
  "metadata": {
    "colab": {
      "collapsed_sections": [],
      "provenance": [],
      "toc_visible": true,
      "include_colab_link": true
    },
    "kernelspec": {
      "display_name": "Python 3.6.8 64-bit",
      "language": "python",
      "name": "python3"
    },
    "language_info": {
      "codemirror_mode": {
        "name": "ipython",
        "version": 3
      },
      "file_extension": ".py",
      "mimetype": "text/x-python",
      "name": "python",
      "nbconvert_exporter": "python",
      "pygments_lexer": "ipython3",
      "version": "3.6.8"
    },
    "vscode": {
      "interpreter": {
        "hash": "646d0728e6210131f35e85666a7b34ef1aee25b3ff6b4fd8b24601835844343a"
      }
    }
  },
  "nbformat": 4,
  "nbformat_minor": 0
}